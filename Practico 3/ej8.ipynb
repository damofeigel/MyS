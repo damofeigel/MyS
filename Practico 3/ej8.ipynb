{
 "cells": [
  {
   "cell_type": "code",
   "execution_count": 1,
   "metadata": {},
   "outputs": [],
   "source": [
    "import random as rd"
   ]
  },
  {
   "cell_type": "code",
   "execution_count": 2,
   "metadata": {},
   "outputs": [],
   "source": [
    "def simulation(n):\n",
    "    N=0\n",
    "    for j in range(n):\n",
    "        dado=rd.randint(1,6)\n",
    "        if dado in [1,6]:\n",
    "            dado=rd.randint(1,6)\n",
    "            pts=2*dado\n",
    "        else:\n",
    "            dado=rd.randint(1,6)\n",
    "            pts=dado\n",
    "            dado=rd.randint(1,6)\n",
    "            pts+=dado\n",
    "        if pts>6:\n",
    "            N+=1 #Gurdo la cantidad de ganadas\n",
    "    return N/n"
   ]
  },
  {
   "cell_type": "code",
   "execution_count": 3,
   "metadata": {},
   "outputs": [
    {
     "data": {
      "text/plain": [
       "0.5577"
      ]
     },
     "execution_count": 3,
     "metadata": {},
     "output_type": "execute_result"
    }
   ],
   "source": [
    "simulation(10000)"
   ]
  }
 ],
 "metadata": {
  "kernelspec": {
   "display_name": "Python 3",
   "language": "python",
   "name": "python3"
  },
  "language_info": {
   "codemirror_mode": {
    "name": "ipython",
    "version": 3
   },
   "file_extension": ".py",
   "mimetype": "text/x-python",
   "name": "python",
   "nbconvert_exporter": "python",
   "pygments_lexer": "ipython3",
   "version": "3.9.2"
  },
  "orig_nbformat": 4
 },
 "nbformat": 4,
 "nbformat_minor": 2
}
