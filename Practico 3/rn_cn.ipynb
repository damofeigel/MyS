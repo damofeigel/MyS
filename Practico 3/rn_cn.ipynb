{
 "cells": [
  {
   "cell_type": "code",
   "execution_count": 2,
   "metadata": {},
   "outputs": [],
   "source": [
    "#congruencial genetaros\n",
    "def cong_gen(a:int, c:int, M:int, seed:int, n:int):\n",
    "    pre=type(a)==int and type(c)==int and type(M)==int and type(seed)==int and type(n)==int\n",
    "    assert pre, \"Error: Los parámetros deben ser enteros\"\n",
    "    seq=[seed]\n",
    "    y=seed\n",
    "    for i in range(n-1):\n",
    "        y=((a*y)+c) % M\n",
    "        seq.append(y)\n",
    "    return seq"
   ]
  },
  {
   "cell_type": "code",
   "execution_count": 3,
   "metadata": {},
   "outputs": [
    {
     "data": {
      "text/plain": [
       "[50, 7, 16, 29, 30, 3, 28, 25, 10, 31]"
      ]
     },
     "execution_count": 3,
     "metadata": {},
     "output_type": "execute_result"
    }
   ],
   "source": [
    "cong_gen(a=5,c=45,M=2**5,seed=50,n=10)"
   ]
  },
  {
   "cell_type": "code",
   "execution_count": 6,
   "metadata": {},
   "outputs": [
    {
     "name": "stdout",
     "output_type": "stream",
     "text": [
      "[1, 7, 49, 59, 58, 51, 2, 14, 27, 47, 45, 31, 4, 28, 54, 23, 19, 62, 8, 56, 37, 46, 38, 53, 16, 41, 3, 21, 5, 35, 32, 11, 6, 42, 10, 70, 64, 22, 12, 13, 20, 69, 57, 44, 24, 26, 40, 67, 43, 17, 48, 52, 9, 63, 15, 34, 25, 33, 18, 55, 30, 68, 50, 66, 36, 39, 60, 65, 29, 61, 1]\n"
     ]
    }
   ],
   "source": [
    "print(cong_gen(a=7,c=0,M=71,seed=1,n=71))"
   ]
  }
 ],
 "metadata": {
  "kernelspec": {
   "display_name": "Python 3",
   "language": "python",
   "name": "python3"
  },
  "language_info": {
   "codemirror_mode": {
    "name": "ipython",
    "version": 3
   },
   "file_extension": ".py",
   "mimetype": "text/x-python",
   "name": "python",
   "nbconvert_exporter": "python",
   "pygments_lexer": "ipython3",
   "version": "3.9.2"
  },
  "orig_nbformat": 4,
  "vscode": {
   "interpreter": {
    "hash": "8846a69f2c50b9d72b98556550453b9650bfe7c2d38b105ef2df610ba22885fc"
   }
  }
 },
 "nbformat": 4,
 "nbformat_minor": 2
}
