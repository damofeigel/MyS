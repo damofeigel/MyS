{
 "cells": [
  {
   "cell_type": "code",
   "execution_count": 7,
   "metadata": {},
   "outputs": [],
   "source": [
    "import random as rd\n",
    "from scipy.stats import expon \n",
    "import numpy as np"
   ]
  },
  {
   "cell_type": "code",
   "execution_count": 8,
   "metadata": {},
   "outputs": [],
   "source": [
    "#Probabilidad de que el cliente espere menos de 4 minutos\n",
    "def simulation_a(n):\n",
    "    rd.seed(1221)\n",
    "    t_total=0\n",
    "    for i in range(n):\n",
    "        u=rd.random()\n",
    "        if u<0.4:\n",
    "            t=float(expon.rvs(scale=3, size=1))\n",
    "        elif u<0.72:\n",
    "            t=float(expon.rvs(scale=4, size=1))\n",
    "        else:\n",
    "            t=float(expon.rvs(scale=5, size=1))\n",
    "        if t<4:\n",
    "            t_total+=1\n",
    "    return t_total/n\n"
   ]
  },
  {
   "cell_type": "code",
   "execution_count": 9,
   "metadata": {},
   "outputs": [
    {
     "data": {
      "text/plain": [
       "0.6453"
      ]
     },
     "execution_count": 9,
     "metadata": {},
     "output_type": "execute_result"
    }
   ],
   "source": [
    "simulation_a(10000)"
   ]
  },
  {
   "cell_type": "code",
   "execution_count": 10,
   "metadata": {},
   "outputs": [],
   "source": [
    "#Si el cliente esperó mas de 4 minutos, ¿en que caja es mas probable\n",
    "#... que haya sido atendido?\n",
    "def simulation_b(n):\n",
    "    rd.seed(4444)\n",
    "    cajas=np.zeros(3)\n",
    "    for i in range(n):\n",
    "        u=rd.random()\n",
    "        if u<0.4:\n",
    "            t=float(expon.rvs(scale=3, size=1))\n",
    "            if t>4:\n",
    "                cajas[0]+=1\n",
    "        elif u<0.72:\n",
    "            t=float(expon.rvs(scale=4, size=1))\n",
    "            if t>4:\n",
    "                cajas[1]+=1\n",
    "        else:\n",
    "            t=float(expon.rvs(scale=5, size=1))\n",
    "            if t>4:\n",
    "                cajas[2]+=1\n",
    "    cajas/=1-0.651    #=1-simulation_a(n)\n",
    "    return cajas/n"
   ]
  },
  {
   "cell_type": "code",
   "execution_count": 11,
   "metadata": {},
   "outputs": [
    {
     "data": {
      "text/plain": [
       "array([0.29684814, 0.34555874, 0.35616046])"
      ]
     },
     "execution_count": 11,
     "metadata": {},
     "output_type": "execute_result"
    }
   ],
   "source": [
    "simulation_b(10000)"
   ]
  }
 ],
 "metadata": {
  "kernelspec": {
   "display_name": "Python 3",
   "language": "python",
   "name": "python3"
  },
  "language_info": {
   "codemirror_mode": {
    "name": "ipython",
    "version": 3
   },
   "file_extension": ".py",
   "mimetype": "text/x-python",
   "name": "python",
   "nbconvert_exporter": "python",
   "pygments_lexer": "ipython3",
   "version": "3.9.2"
  },
  "orig_nbformat": 4
 },
 "nbformat": 4,
 "nbformat_minor": 2
}
