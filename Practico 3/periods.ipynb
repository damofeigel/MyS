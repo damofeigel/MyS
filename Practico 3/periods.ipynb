{
 "cells": [
  {
   "cell_type": "code",
   "execution_count": 24,
   "metadata": {},
   "outputs": [],
   "source": [
    "import math\n",
    "from ipynb.fs.full.RN_CN import cong_gen\n",
    "import sympy as sym"
   ]
  },
  {
   "cell_type": "code",
   "execution_count": 25,
   "metadata": {},
   "outputs": [],
   "source": [
    "def is_raiz_primitiva(a,M):\n",
    "    primes=list(sym.factorint(M).keys())\n",
    "    raiz_primitiva=True\n",
    "    for p in primes:\n",
    "        if (a**((M-1)/p))%M==1:\n",
    "            raiz_primitiva=False\n",
    "    return raiz_primitiva"
   ]
  },
  {
   "cell_type": "code",
   "execution_count": 26,
   "metadata": {},
   "outputs": [],
   "source": [
    "#sym.factorint() returns dictionary and its keys are the primes of the number´s...\n",
    "#... prime factorization and the values of each key are their multiplicities.\n",
    "def is_max_period(a,c,M):\n",
    "    max_period=False\n",
    "    cond_1=True\n",
    "    cond_2=True\n",
    "    cond_3=True\n",
    "    \n",
    "    p=math.gcd(c,M)\n",
    "    if p!=1:\n",
    "        cond_q=False\n",
    "    \n",
    "    primes=list(sym.factorint(M).keys()) #factores primos de M\n",
    "    for j in primes:\n",
    "        if a%j!=1:\n",
    "            cond_2=False\n",
    "    \n",
    "    if M%4==0 and a%4!=1:\n",
    "        cond_3=False\n",
    "    \n",
    "    if cond_1 and cond_2 and cond_3:\n",
    "        max_period=True\n",
    "        \n",
    "    return max_period, (cond_1, cond_2, cond_3)"
   ]
  },
  {
   "cell_type": "code",
   "execution_count": 27,
   "metadata": {},
   "outputs": [
    {
     "data": {
      "text/plain": [
       "(True, (True, True, True))"
      ]
     },
     "execution_count": 27,
     "metadata": {},
     "output_type": "execute_result"
    }
   ],
   "source": [
    "is_max_period(125, 3, 2**9)"
   ]
  },
  {
   "cell_type": "code",
   "execution_count": 28,
   "metadata": {},
   "outputs": [
    {
     "data": {
      "text/plain": [
       "(False, (True, True, False))"
      ]
     },
     "execution_count": 28,
     "metadata": {},
     "output_type": "execute_result"
    }
   ],
   "source": [
    "is_max_period(123, 3, 2**9)"
   ]
  },
  {
   "cell_type": "code",
   "execution_count": 29,
   "metadata": {},
   "outputs": [],
   "source": [
    "#Tomo como seeds a todos los enteros <=M-1\n",
    "def period(a,c,M):\n",
    "    periods=[] #Guardo los periodos de cada semilla\n",
    "    for seed in range(M):\n",
    "        per_found=False\n",
    "        y1=seed\n",
    "        seq=[y1]\n",
    "        generados=1\n",
    "        while(not per_found):\n",
    "            y1=((a*y1)+c)%M\n",
    "            generados+=1\n",
    "            for k in range(len(seq)):\n",
    "                if y1==seq[k]:\n",
    "                    per_found=True\n",
    "                    period=generados-k-1\n",
    "            seq.append(y1)\n",
    "        periods.append(period)\n",
    "    return max(periods)\n"
   ]
  },
  {
   "cell_type": "code",
   "execution_count": 30,
   "metadata": {},
   "outputs": [
    {
     "data": {
      "text/plain": [
       "5"
      ]
     },
     "execution_count": 30,
     "metadata": {},
     "output_type": "execute_result"
    }
   ],
   "source": [
    "period(5,0,71)\n"
   ]
  },
  {
   "cell_type": "code",
   "execution_count": 31,
   "metadata": {},
   "outputs": [
    {
     "data": {
      "text/plain": [
       "70"
      ]
     },
     "execution_count": 31,
     "metadata": {},
     "output_type": "execute_result"
    }
   ],
   "source": [
    "period(7,0,71)"
   ]
  },
  {
   "cell_type": "code",
   "execution_count": 32,
   "metadata": {},
   "outputs": [],
   "source": [
    "def raiz_mult(a,M):\n",
    "    p=list(sym.factorint(M-1).keys())\n",
    "    mult_root=True\n",
    "    n=len(p)\n",
    "    i=0\n",
    "    while(mult_root and i<n):\n",
    "        if (a**((M-1)/p[i]))%M == 1:\n",
    "            mult_root=False\n",
    "        i+=1\n",
    "    return mult_root"
   ]
  },
  {
   "cell_type": "code",
   "execution_count": 33,
   "metadata": {},
   "outputs": [
    {
     "data": {
      "text/plain": [
       "True"
      ]
     },
     "execution_count": 33,
     "metadata": {},
     "output_type": "execute_result"
    }
   ],
   "source": [
    "raiz_mult(7,71)"
   ]
  }
 ],
 "metadata": {
  "kernelspec": {
   "display_name": "Python 3",
   "language": "python",
   "name": "python3"
  },
  "language_info": {
   "codemirror_mode": {
    "name": "ipython",
    "version": 3
   },
   "file_extension": ".py",
   "mimetype": "text/x-python",
   "name": "python",
   "nbconvert_exporter": "python",
   "pygments_lexer": "ipython3",
   "version": "3.9.2"
  },
  "orig_nbformat": 4,
  "vscode": {
   "interpreter": {
    "hash": "8846a69f2c50b9d72b98556550453b9650bfe7c2d38b105ef2df610ba22885fc"
   }
  }
 },
 "nbformat": 4,
 "nbformat_minor": 2
}
