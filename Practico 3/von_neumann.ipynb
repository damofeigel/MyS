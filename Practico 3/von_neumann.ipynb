{
 "cells": [
  {
   "cell_type": "code",
   "execution_count": 51,
   "metadata": {},
   "outputs": [],
   "source": [
    "import math\n"
   ]
  },
  {
   "cell_type": "code",
   "execution_count": 52,
   "metadata": {},
   "outputs": [],
   "source": [
    "#toma un x0 semilla\n",
    "#lo eleva al cuadrado\n",
    "#si el numero de digitos es menor estricto que 8 completa con ceros\n",
    "#toma como x1 a los 4 digitos del medio\n",
    "\n",
    "def von_Neumann(seed:int, n:int):\n",
    "    seq=[seed]\n",
    "    for i in range(n-1):\n",
    "        seed=seed**2\n",
    "        seed=str(seed)\n",
    "        for j in range(8-len(seed)):\n",
    "            seed='0'+seed\n",
    "        seed=seed[2:6]\n",
    "        seed=int(seed)\n",
    "        seq.append(seed)\n",
    "    return seq"
   ]
  },
  {
   "cell_type": "code",
   "execution_count": 53,
   "metadata": {},
   "outputs": [
    {
     "name": "stdout",
     "output_type": "stream",
     "text": [
      "[12, 1, 0, 0, 0, 0, 0, 0, 0, 0]\n"
     ]
    }
   ],
   "source": [
    "print(von_Neumann(12, 10))"
   ]
  }
 ],
 "metadata": {
  "kernelspec": {
   "display_name": "Python 3",
   "language": "python",
   "name": "python3"
  },
  "language_info": {
   "codemirror_mode": {
    "name": "ipython",
    "version": 3
   },
   "file_extension": ".py",
   "mimetype": "text/x-python",
   "name": "python",
   "nbconvert_exporter": "python",
   "pygments_lexer": "ipython3",
   "version": "3.9.2"
  },
  "orig_nbformat": 4,
  "vscode": {
   "interpreter": {
    "hash": "8846a69f2c50b9d72b98556550453b9650bfe7c2d38b105ef2df610ba22885fc"
   }
  }
 },
 "nbformat": 4,
 "nbformat_minor": 2
}
