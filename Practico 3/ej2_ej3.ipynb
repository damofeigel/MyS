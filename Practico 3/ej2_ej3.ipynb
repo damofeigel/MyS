{
 "cells": [
  {
   "cell_type": "code",
   "execution_count": 2,
   "metadata": {},
   "outputs": [],
   "source": [
    "import random as rd"
   ]
  },
  {
   "cell_type": "code",
   "execution_count": 18,
   "metadata": {},
   "outputs": [],
   "source": [
    "def simulation_2(n):\n",
    "    rd.seed(1234) #Establezco un seed para obtener siempre los mismos resultados\n",
    "    wins=0\n",
    "    for i in range(n):\n",
    "        u=rd.random()\n",
    "        if u<0.5:\n",
    "            w1=rd.random()\n",
    "            w2=rd.random()\n",
    "            if w1+w2>=1:\n",
    "                wins+=1\n",
    "        else:\n",
    "            w1=rd.random()\n",
    "            w2=rd.random()\n",
    "            w3=rd.random()\n",
    "            if w1+w2+w3>=1:\n",
    "                wins+=1            \n",
    "    return wins/n"
   ]
  },
  {
   "cell_type": "code",
   "execution_count": 21,
   "metadata": {},
   "outputs": [
    {
     "data": {
      "text/plain": [
       "[0.75, 0.689, 0.6654, 0.66494, 0.66526]"
      ]
     },
     "execution_count": 21,
     "metadata": {},
     "output_type": "execute_result"
    }
   ],
   "source": [
    "results_2=[]\n",
    "for j in range(2,7):\n",
    "    results_2.append(simulation_2(10**j))\n",
    "results_2"
   ]
  },
  {
   "cell_type": "code",
   "execution_count": 22,
   "metadata": {},
   "outputs": [],
   "source": [
    "def simulation_3(n):\n",
    "    rd.seed(2345) #Establezco un seed para obtener siempre los mismos resultados\n",
    "    wins=0\n",
    "    for i in range(n):\n",
    "        u=rd.random()\n",
    "        if u<(1/3):\n",
    "            w1=rd.random()\n",
    "            w2=rd.random()\n",
    "            if w1+w2<=2:\n",
    "                wins+=1\n",
    "        else:\n",
    "            w1=rd.random()\n",
    "            w2=rd.random()\n",
    "            w3=rd.random()\n",
    "            if w1+w2+w3<=2:\n",
    "                wins+=1            \n",
    "    return wins/n"
   ]
  },
  {
   "cell_type": "code",
   "execution_count": 25,
   "metadata": {},
   "outputs": [
    {
     "data": {
      "text/plain": [
       "[0.93, 0.887, 0.8883, 0.89036, 0.889433]"
      ]
     },
     "execution_count": 25,
     "metadata": {},
     "output_type": "execute_result"
    }
   ],
   "source": [
    "results_3=[]\n",
    "for j in range(2,7):\n",
    "    results_3.append(simulation_3(10**j))\n",
    "results_3"
   ]
  }
 ],
 "metadata": {
  "kernelspec": {
   "display_name": "Python 3",
   "language": "python",
   "name": "python3"
  },
  "language_info": {
   "codemirror_mode": {
    "name": "ipython",
    "version": 3
   },
   "file_extension": ".py",
   "mimetype": "text/x-python",
   "name": "python",
   "nbconvert_exporter": "python",
   "pygments_lexer": "ipython3",
   "version": "3.9.2"
  },
  "orig_nbformat": 4
 },
 "nbformat": 4,
 "nbformat_minor": 2
}
