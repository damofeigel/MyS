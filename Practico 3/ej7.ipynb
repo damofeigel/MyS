{
 "cells": [
  {
   "cell_type": "code",
   "execution_count": 20,
   "metadata": {},
   "outputs": [],
   "source": [
    "import random as rd\n",
    "import math"
   ]
  },
  {
   "cell_type": "code",
   "execution_count": 21,
   "metadata": {},
   "outputs": [],
   "source": [
    "def simulation_a(n):\n",
    "    rd.seed(1234)\n",
    "    N=0\n",
    "    for i in range(n):\n",
    "        prod=1\n",
    "        j=0 #Cuenta cuantos n son necesarios en la simulacion i\n",
    "        while prod>=math.e**-3:\n",
    "            u=rd.random()\n",
    "            prod*=u\n",
    "            j+=1 \n",
    "        N+=j-1 #No quiero saber la cantidad de j que excede, quiero saber el j antes de que exceda\n",
    "    N=N/n \n",
    "    return N"
   ]
  },
  {
   "cell_type": "code",
   "execution_count": 22,
   "metadata": {},
   "outputs": [
    {
     "data": {
      "text/plain": [
       "3.1"
      ]
     },
     "execution_count": 22,
     "metadata": {},
     "output_type": "execute_result"
    }
   ],
   "source": [
    "simulation_a(1000)"
   ]
  },
  {
   "cell_type": "code",
   "execution_count": 26,
   "metadata": {},
   "outputs": [],
   "source": [
    "def simulation_b(n,k):\n",
    "    rd.seed(1234)\n",
    "    N=0 \n",
    "    for i in range(n):\n",
    "        prod=1\n",
    "        j=0 #Cuenta cuantos n son necesarios en la simulacion i\n",
    "        while prod>=math.e**-3:\n",
    "            u=rd.random()\n",
    "            prod*=u\n",
    "            j+=1\n",
    "        if j-1==k:\n",
    "            N+=1\n",
    "    N=N/n \n",
    "    return N"
   ]
  },
  {
   "cell_type": "code",
   "execution_count": 27,
   "metadata": {},
   "outputs": [],
   "source": [
    "def results():\n",
    "    for j in range(7):\n",
    "        print(simulation_b(1000000,j))\n"
   ]
  },
  {
   "cell_type": "code",
   "execution_count": 28,
   "metadata": {},
   "outputs": [
    {
     "name": "stdout",
     "output_type": "stream",
     "text": [
      "0.049733\n",
      "0.149689\n",
      "0.224089\n",
      "0.22398\n",
      "0.168017\n",
      "0.100842\n",
      "0.050524\n"
     ]
    }
   ],
   "source": [
    "results()"
   ]
  }
 ],
 "metadata": {
  "kernelspec": {
   "display_name": "Python 3",
   "language": "python",
   "name": "python3"
  },
  "language_info": {
   "codemirror_mode": {
    "name": "ipython",
    "version": 3
   },
   "file_extension": ".py",
   "mimetype": "text/x-python",
   "name": "python",
   "nbconvert_exporter": "python",
   "pygments_lexer": "ipython3",
   "version": "3.9.2"
  },
  "orig_nbformat": 4
 },
 "nbformat": 4,
 "nbformat_minor": 2
}
