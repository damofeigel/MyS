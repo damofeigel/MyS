{
  "nbformat": 4,
  "nbformat_minor": 0,
  "metadata": {
    "colab": {
      "provenance": []
    },
    "kernelspec": {
      "name": "python3",
      "display_name": "Python 3"
    },
    "language_info": {
      "name": "python"
    }
  },
  "cells": [
    {
      "cell_type": "code",
      "execution_count": 1,
      "metadata": {
        "id": "Z82krwG8SxNF"
      },
      "outputs": [],
      "source": [
        "from random import random\n",
        "import numpy as np"
      ]
    },
    {
      "cell_type": "code",
      "source": [
        "def gana_a():\n",
        "  u1 = random(); v1 = random()\n",
        "\n",
        "  if u1 > 0.5 and v1 < 0.5:\n",
        "    return True\n",
        "\n",
        "  if v1 > 0.5 and u1 < 0.5:\n",
        "    return False\n",
        "\n",
        "  else:\n",
        "    # jugar de nuevo\n",
        "    u2 = random(); v2 = random()\n",
        "    if u2 > 0.5 and v2 < 0.5:\n",
        "      return True\n",
        "  # No gano\n",
        "  return False\n",
        "\n",
        "def simulacion(nsim):\n",
        "  ganados_primero_o_segundo = 0\n",
        "\n",
        "  for _ in range(nsim):\n",
        "    if gana_a():\n",
        "      ganados_primero_o_segundo += 1\n",
        "\n",
        "  return ganados_primero_o_segundo / nsim"
      ],
      "metadata": {
        "id": "vQYpULRFS3u1"
      },
      "execution_count": 4,
      "outputs": []
    },
    {
      "cell_type": "code",
      "source": [
        "simulacion(1_000_000)\n"
      ],
      "metadata": {
        "colab": {
          "base_uri": "https://localhost:8080/"
        },
        "id": "PurYB2g-TMl5",
        "outputId": "69e84038-1d6d-4834-c824-fbf2bdb8debb"
      },
      "execution_count": 10,
      "outputs": [
        {
          "output_type": "execute_result",
          "data": {
            "text/plain": [
              "0.374817"
            ]
          },
          "metadata": {},
          "execution_count": 10
        }
      ]
    },
    {
      "cell_type": "code",
      "source": [
        "# EJ 4\n",
        "def MonteCarlo_01(fun, Nsim):\n",
        "    Integral = 0\n",
        "    for _ in range(Nsim):\n",
        "        Integral += fun(random())\n",
        "    return Integral/Nsim\n",
        "\n",
        "# Integral Monte Carlo en el intervalo (a,b)\n",
        "def MonteCarlo_ab(fun, a, b, Nsim):\n",
        "    Integral = 0\n",
        "    for _ in range(Nsim):\n",
        "        Integral += fun(a + (b-a)*random())\n",
        "    return Integral*(b-a)/Nsim #Aquí multiplico una sola vez por (b-a)\n",
        "\n",
        "# Integral Monte Carlo en el intervalo (0,inf)\n",
        "def MonteCarlo_inf(fun, Nsim):\n",
        "    Integral=0\n",
        "    for _ in range(Nsim):\n",
        "        u=random()\n",
        "        Integral+= fun(1/u-1)/(u**2)\n",
        "    return Integral/Nsim"
      ],
      "metadata": {
        "id": "xHz-Ukl0Tkl7"
      },
      "execution_count": 12,
      "outputs": []
    },
    {
      "cell_type": "code",
      "source": [
        "# A\n",
        "def fun_a(x):\n",
        "  return x / (x - np.exp(x))\n",
        "\n",
        "# B\n",
        "def fun_b(x):\n",
        "  return (x**3) * np.exp(-x**3)\n",
        "\n",
        "print(\"Aproximacion ejercicio 4a\")\n",
        "for nsim in [1000, 10_000, 100_000, 1_000_000]:\n",
        "  print(f\"{MonteCarlo_ab(fun_a, -3, 3, nsim)}\")\n",
        "\n",
        "print(\"---------------------------\")\n",
        "print(\"Aproximacion ejercicio 4a\")\n",
        "for nsim in [1000, 10_000, 100_000, 1_000_000]:\n",
        "  print(f\"{MonteCarlo_ab(fun_b, -1, 0, nsim) + MonteCarlo_inf(fun_b, nsim)}\")\n",
        "\n"
      ],
      "metadata": {
        "colab": {
          "base_uri": "https://localhost:8080/"
        },
        "id": "5RogwUHGTqwb",
        "outputId": "3cf1e38e-c597-4ac6-80b0-a8f786c06f1d"
      },
      "execution_count": 17,
      "outputs": [
        {
          "output_type": "stream",
          "name": "stdout",
          "text": [
            "Aproximacion ejercicio 4a\n",
            "0.8938700234980219\n",
            "1.014603008812002\n",
            "1.109287664877725\n",
            "1.1046331853898086\n",
            "---------------------------\n",
            "Aproximacion ejercicio 4a\n",
            "-0.14936535607696522\n",
            "-0.1488718780221452\n",
            "-0.16306131260071527\n",
            "-0.1604080898438498\n"
          ]
        }
      ]
    }
  ]
}