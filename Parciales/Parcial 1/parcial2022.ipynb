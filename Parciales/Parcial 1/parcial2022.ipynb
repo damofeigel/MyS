{
  "nbformat": 4,
  "nbformat_minor": 0,
  "metadata": {
    "colab": {
      "provenance": []
    },
    "kernelspec": {
      "name": "python3",
      "display_name": "Python 3"
    },
    "language_info": {
      "name": "python"
    }
  },
  "cells": [
    {
      "cell_type": "code",
      "source": [
        "from random import random\n",
        "import numpy as np"
      ],
      "metadata": {
        "id": "8yujkfvlPavH"
      },
      "execution_count": 14,
      "outputs": []
    },
    {
      "cell_type": "code",
      "source": [
        "def gana_a():\n",
        "  u = random(); v = random()\n",
        "  if max(u, v) > 0.6:\n",
        "    return True\n",
        "  return False"
      ],
      "metadata": {
        "id": "Zaet31fXRSmu"
      },
      "execution_count": 16,
      "outputs": []
    },
    {
      "cell_type": "code",
      "source": [
        "def simulacion_2(nsim):\n",
        "  ganados = 0\n",
        "  for _ in range(nsim):\n",
        "    if gana_a():\n",
        "      ganados += 1\n",
        "\n",
        "  return ganados / nsim\n",
        "\n",
        "print(simulacion_2(10_000))"
      ],
      "metadata": {
        "colab": {
          "base_uri": "https://localhost:8080/"
        },
        "id": "dS9MJquKRhdA",
        "outputId": "c4a944c4-e8bb-417f-df63-5a39befb604d"
      },
      "execution_count": 19,
      "outputs": [
        {
          "output_type": "stream",
          "name": "stdout",
          "text": [
            "0.6475\n"
          ]
        }
      ]
    },
    {
      "cell_type": "code",
      "execution_count": 3,
      "metadata": {
        "id": "M2A0n-5yPXOt"
      },
      "outputs": [],
      "source": [
        "def MonteCarlo_01(fun, Nsim):\n",
        "    Integral = 0\n",
        "    for _ in range(Nsim):\n",
        "        Integral += fun(random())\n",
        "    return Integral/Nsim\n",
        "\n",
        "# Integral Monte Carlo en el intervalo (a,b)\n",
        "def MonteCarlo_ab(fun, a, b, Nsim):\n",
        "    Integral = 0\n",
        "    for _ in range(Nsim):\n",
        "        Integral += fun(a + (b-a)*random())\n",
        "    return Integral*(b-a)/Nsim #Aquí multiplico una sola vez por (b-a)\n",
        "\n",
        "# Integral Monte Carlo en el intervalo (0,inf)\n",
        "def MonteCarlo_inf(fun, Nsim):\n",
        "    Integral=0\n",
        "    for _ in range(Nsim):\n",
        "        u=random()\n",
        "        Integral+= fun(1/u-1)/(u**2)\n",
        "    return Integral/Nsim\n"
      ]
    },
    {
      "cell_type": "code",
      "source": [
        "# b\n",
        "def fun(x):\n",
        "  return np.exp(-x**2) * x**2\n",
        "\n",
        "simulations = [1000, 10_000, 100_000, 1_000_000]\n",
        "for sim in simulations:\n",
        "  print(f\"{MonteCarlo_inf(fun, sim) - MonteCarlo_01(fun, sim)}\")"
      ],
      "metadata": {
        "colab": {
          "base_uri": "https://localhost:8080/"
        },
        "id": "WeLmiz3YPhLI",
        "outputId": "28c1323e-55ea-42b0-9823-162c22e3aa6a"
      },
      "execution_count": 6,
      "outputs": [
        {
          "output_type": "stream",
          "name": "stdout",
          "text": [
            "0.254129848659\n",
            "0.24282194857974213\n",
            "0.252781566183539\n",
            "0.2532116620039174\n"
          ]
        }
      ]
    },
    {
      "cell_type": "code",
      "source": [
        "# Integrales múltiples, 2 variables\n",
        "from random import random\n",
        "# Integral Monte Carlo en el intervalo (0,1)x(0,1)\n",
        "def MonteCarlo_01_2(fun, Nsim):\n",
        "    Integral = 0\n",
        "    for _ in range(Nsim):\n",
        "        Integral += fun(random(), random())\n",
        "    return Integral/Nsim\n",
        "\n",
        "# Integral Monte Carlo en el intervalo (a,b)x(c,d)\n",
        "def MonteCarlo_ab_2(fun,a,b,c,d, Nsim):\n",
        "    Integral = 0\n",
        "    for _ in range(Nsim):\n",
        "        Integral += fun(a + (b-a)*random(), c + (d-c)*random())\n",
        "    return Integral*(b-a)*(d-c)/Nsim\n",
        "\n",
        "# Integral Monte Carlo en el intervalo (0,inf)x(0,inf)\n",
        "def MonteCarlo_inf_2(g, Nsim):\n",
        "    Integral=0\n",
        "    for _ in range(Nsim):\n",
        "        u1=random()\n",
        "        u2=random()\n",
        "        Integral+= g(1/u1-1, 1/u2-1)/((u1**2)*(u2**2))\n",
        "    return Integral/Nsim"
      ],
      "metadata": {
        "id": "6AFAdgVfQY1P"
      },
      "execution_count": 7,
      "outputs": []
    },
    {
      "cell_type": "code",
      "source": [
        "def funa(x, y):\n",
        "  return 1 - np.exp(-x-y)\n",
        "\n",
        "simulations = [1000, 10_000, 100_000, 1_000_000]\n",
        "for sim in simulations:\n",
        "  print(f\"{MonteCarlo_01_2(funa, sim)}\")"
      ],
      "metadata": {
        "colab": {
          "base_uri": "https://localhost:8080/"
        },
        "id": "xjxKJ1XDQaMz",
        "outputId": "43416fbf-d004-4e28-e5cb-73e38a772188"
      },
      "execution_count": 8,
      "outputs": [
        {
          "output_type": "stream",
          "name": "stdout",
          "text": [
            "0.6014333598563735\n",
            "0.6007907338488764\n",
            "0.6000255716891256\n",
            "0.6004209542773279\n"
          ]
        }
      ]
    }
  ]
}